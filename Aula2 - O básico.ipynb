{
 "cells": [
  {
   "cell_type": "markdown",
   "metadata": {},
   "source": [
    "Estrutura de um programa"
   ]
  },
  {
   "cell_type": "code",
   "execution_count": 2,
   "metadata": {},
   "outputs": [],
   "source": [
    "def main():\n",
    "    #comandos\n",
    "    pass\n",
    "\n",
    "#--------------\n",
    "# A linha a seguir executa o programa\n",
    "main()"
   ]
  },
  {
   "cell_type": "code",
   "execution_count": 7,
   "metadata": {},
   "outputs": [],
   "source": [
    "a = 10\n",
    "b = 20\n",
    "soma = a + b\n"
   ]
  },
  {
   "cell_type": "code",
   "execution_count": 8,
   "metadata": {},
   "outputs": [
    {
     "data": {
      "text/plain": [
       "30"
      ]
     },
     "execution_count": 8,
     "metadata": {},
     "output_type": "execute_result"
    }
   ],
   "source": [
    "soma"
   ]
  },
  {
   "cell_type": "code",
   "execution_count": 10,
   "metadata": {},
   "outputs": [],
   "source": [
    "multiplicacao = a * b\n"
   ]
  },
  {
   "cell_type": "code",
   "execution_count": 11,
   "metadata": {},
   "outputs": [
    {
     "data": {
      "text/plain": [
       "200"
      ]
     },
     "execution_count": 11,
     "metadata": {},
     "output_type": "execute_result"
    }
   ],
   "source": [
    "multiplicacao"
   ]
  },
  {
   "cell_type": "code",
   "execution_count": 13,
   "metadata": {},
   "outputs": [
    {
     "name": "stdout",
     "output_type": "stream",
     "text": [
      "A soma é:  5\n"
     ]
    }
   ],
   "source": [
    "def main():\n",
    "    a = 1\n",
    "    b = 4\n",
    "    soma = a + b\n",
    "    print('A soma é: ',soma)\n",
    "    \n",
    "main()"
   ]
  },
  {
   "cell_type": "code",
   "execution_count": 14,
   "metadata": {},
   "outputs": [
    {
     "name": "stdout",
     "output_type": "stream",
     "text": [
      "Digite o a: 10\n",
      "Digite o B20\n",
      "A soma é:  1020\n"
     ]
    }
   ],
   "source": [
    "def main():\n",
    "    a = input('Digite o a: ')\n",
    "    b = input('Digite o B')\n",
    "    soma = a + b\n",
    "    print('A soma é: ',soma)\n",
    "    \n",
    "main()"
   ]
  },
  {
   "cell_type": "code",
   "execution_count": 15,
   "metadata": {},
   "outputs": [
    {
     "name": "stdout",
     "output_type": "stream",
     "text": [
      "Digite o a: 10\n",
      "Digite o B20\n",
      "A soma é:  30\n"
     ]
    }
   ],
   "source": [
    "def main():\n",
    "    a = int(input('Digite o a: '))\n",
    "    b = int(input('Digite o B'))\n",
    "    soma = a + b\n",
    "    print('A soma é: ',soma)\n",
    "    \n",
    "main()"
   ]
  },
  {
   "cell_type": "code",
   "execution_count": 16,
   "metadata": {},
   "outputs": [
    {
     "name": "stdout",
     "output_type": "stream",
     "text": [
      "Digite o a: 10.5\n",
      "Digite o B10.3\n",
      "A soma é:  20.8\n"
     ]
    }
   ],
   "source": [
    "def main():\n",
    "    a = float(input('Digite o a: '))\n",
    "    b = float(input('Digite o B'))\n",
    "    soma = a + b\n",
    "    print('A soma é: ',soma)\n",
    "    \n",
    "main()"
   ]
  },
  {
   "cell_type": "code",
   "execution_count": 17,
   "metadata": {},
   "outputs": [
    {
     "name": "stdout",
     "output_type": "stream",
     "text": [
      "Digite A: 10\n",
      "Digite B: 10\n",
      "O resultado da Multiplicação é:  100.0\n"
     ]
    }
   ],
   "source": [
    "def main():\n",
    "    a = float(input('Digite A: '))\n",
    "    b = float(input('Digite B: '))\n",
    "    multi = a * b\n",
    "    print('O resultado da Multiplicação é: ', multi)\n",
    "main()"
   ]
  },
  {
   "cell_type": "markdown",
   "metadata": {},
   "source": []
  },
  {
   "cell_type": "code",
   "execution_count": 1,
   "metadata": {},
   "outputs": [
    {
     "name": "stdout",
     "output_type": "stream",
     "text": [
      "Digite A: 10\n",
      "Digite B: 20\n",
      "O resultado da Divisão é:  0.5\n"
     ]
    }
   ],
   "source": [
    "def main():\n",
    "    a = float(input('Digite A: '))\n",
    "    b = float(input('Digite B: '))\n",
    "    divisao = a / b\n",
    "    print('O resultado da Divisão é: ', divisao)\n",
    "main()"
   ]
  },
  {
   "cell_type": "code",
   "execution_count": 2,
   "metadata": {},
   "outputs": [
    {
     "name": "stdout",
     "output_type": "stream",
     "text": [
      "Digite A: 10\n",
      "Digite B: 20\n",
      "Digite C: 30\n",
      "Digite D: 40\n",
      "O resultado da subtração é:  -80.0\n"
     ]
    }
   ],
   "source": [
    "def main():\n",
    "    a = float(input('Digite A: '))\n",
    "    b = float(input('Digite B: '))\n",
    "    c = float(input('Digite C: '))\n",
    "    d = float(input('Digite D: '))\n",
    "    sub = a - b - c - d\n",
    "    print('O resultado da subtração é: ', sub)\n",
    "main()"
   ]
  },
  {
   "cell_type": "code",
   "execution_count": 9,
   "metadata": {},
   "outputs": [],
   "source": [
    "numero = 10\n",
    "letra = 'a'\n",
    "palavra = 'ByLearn'"
   ]
  },
  {
   "cell_type": "code",
   "execution_count": 10,
   "metadata": {},
   "outputs": [
    {
     "data": {
      "text/plain": [
       "'meu numero vale 10 -- a -- ByLearn'"
      ]
     },
     "execution_count": 10,
     "metadata": {},
     "output_type": "execute_result"
    }
   ],
   "source": [
    "\"meu numero vale {} -- {} -- {}\".format(numero,letra,palavra)"
   ]
  },
  {
   "cell_type": "code",
   "execution_count": 11,
   "metadata": {},
   "outputs": [
    {
     "data": {
      "text/plain": [
       "'meu numero vale 10 -- a -- ByLearn'"
      ]
     },
     "execution_count": 11,
     "metadata": {},
     "output_type": "execute_result"
    }
   ],
   "source": [
    "f'meu numero vale {numero} -- {letra} -- {palavra}'"
   ]
  },
  {
   "cell_type": "code",
   "execution_count": 12,
   "metadata": {},
   "outputs": [
    {
     "name": "stdout",
     "output_type": "stream",
     "text": [
      "2.57\n"
     ]
    }
   ],
   "source": [
    "numero = 2.57\n",
    "print(numero)"
   ]
  },
  {
   "cell_type": "code",
   "execution_count": 24,
   "metadata": {},
   "outputs": [
    {
     "name": "stdout",
     "output_type": "stream",
     "text": [
      "3.33\n",
      "3.3\n",
      "3\n",
      "3.33\n",
      "3.3\n",
      "3\n"
     ]
    }
   ],
   "source": [
    "print('{:.2f}'.format(numero))\n",
    "print('{:.1f}'.format(numero))\n",
    "print('{:.0f}'.format(numero))\n",
    "print(f'{numero:.2f}')\n",
    "print(f'{numero:.1f}')\n",
    "print(f'{numero:.0f}')"
   ]
  },
  {
   "cell_type": "code",
   "execution_count": 17,
   "metadata": {},
   "outputs": [
    {
     "data": {
      "text/plain": [
       "2.57"
      ]
     },
     "execution_count": 17,
     "metadata": {},
     "output_type": "execute_result"
    }
   ],
   "source": [
    "numero"
   ]
  },
  {
   "cell_type": "code",
   "execution_count": 20,
   "metadata": {},
   "outputs": [
    {
     "data": {
      "text/plain": [
       "3.3333333333333335"
      ]
     },
     "execution_count": 20,
     "metadata": {},
     "output_type": "execute_result"
    }
   ],
   "source": [
    "numero = 10 / 3\n",
    "numero"
   ]
  },
  {
   "cell_type": "code",
   "execution_count": 21,
   "metadata": {},
   "outputs": [
    {
     "name": "stdout",
     "output_type": "stream",
     "text": [
      "3.33\n"
     ]
    }
   ],
   "source": [
    "print('{:.2f}'.format(numero))"
   ]
  },
  {
   "cell_type": "code",
   "execution_count": null,
   "metadata": {},
   "outputs": [],
   "source": []
  }
 ],
 "metadata": {
  "kernelspec": {
   "display_name": "Python 3",
   "language": "python",
   "name": "python3"
  },
  "language_info": {
   "codemirror_mode": {
    "name": "ipython",
    "version": 3
   },
   "file_extension": ".py",
   "mimetype": "text/x-python",
   "name": "python",
   "nbconvert_exporter": "python",
   "pygments_lexer": "ipython3",
   "version": "3.7.6"
  }
 },
 "nbformat": 4,
 "nbformat_minor": 4
}
